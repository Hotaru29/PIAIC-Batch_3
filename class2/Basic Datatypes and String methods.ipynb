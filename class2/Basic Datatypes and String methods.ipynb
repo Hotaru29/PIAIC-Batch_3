{
 "cells": [
  {
   "cell_type": "code",
   "execution_count": 1,
   "metadata": {},
   "outputs": [
    {
     "name": "stdout",
     "output_type": "stream",
     "text": [
      "\n",
      "PIAIC Islamabad\n",
      "Bahria University\n",
      "Name : Pakizahh\n",
      "Fathers Name : Muhammad Mushtaq\n",
      "\n"
     ]
    }
   ],
   "source": [
    "card = \"\"\"\n",
    "PIAIC Islamabad\n",
    "Bahria University\n",
    "Name : Pakizahh\n",
    "Fathers Name : Muhammad Mushtaq\n",
    "\"\"\"\n",
    "\n",
    "print(card)"
   ]
  },
  {
   "cell_type": "code",
   "execution_count": 8,
   "metadata": {},
   "outputs": [
    {
     "name": "stdout",
     "output_type": "stream",
     "text": [
      "\n",
      "PIAIC Islamabad\n",
      "Bahria University\n",
      "Name : Pakizahh\n",
      "Fathers Name : Muhammad Mushtaq\n",
      "Fee : 1000\n",
      "\n"
     ]
    }
   ],
   "source": [
    "student_name = \"Pakizahh\"\n",
    "fathers_name = \"Muhammad Mushtaq\"\n",
    "fee = 1000\n",
    "card = \"\"\"\n",
    "PIAIC Islamabad\n",
    "Bahria University\n",
    "Name : %s\n",
    "Fathers Name : %s\n",
    "Fee : %d\n",
    "\"\"\"\n",
    "\n",
    "print(card%(student_name, fathers_name, fee))"
   ]
  },
  {
   "cell_type": "code",
   "execution_count": 9,
   "metadata": {},
   "outputs": [
    {
     "name": "stdout",
     "output_type": "stream",
     "text": [
      "Input Name: p\n",
      "Input Fathers Name: m\n",
      "Enter Fee: 1\n",
      "\n",
      "PIAIC Islamabad\n",
      "Bahria University\n",
      "Name : p\n",
      "Fathers Name : m\n",
      "Fee : 1\n",
      "\n"
     ]
    }
   ],
   "source": [
    "student_name = input(\"Input Name: \")\n",
    "fathers_name = input(\"Input Fathers Name: \")\n",
    "fee = int(input(\"Enter Fee: \"))\n",
    "card = \"\"\"\n",
    "PIAIC Islamabad\n",
    "Bahria University\n",
    "Name : %s\n",
    "Fathers Name : %s\n",
    "Fee : %d\n",
    "\"\"\"\n",
    "\n",
    "print(card%(student_name, fathers_name, fee))"
   ]
  },
  {
   "cell_type": "code",
   "execution_count": 10,
   "metadata": {},
   "outputs": [
    {
     "ename": "KeyError",
     "evalue": "'student_name'",
     "output_type": "error",
     "traceback": [
      "\u001b[1;31m---------------------------------------------------------------------------\u001b[0m",
      "\u001b[1;31mKeyError\u001b[0m                                  Traceback (most recent call last)",
      "\u001b[1;32m<ipython-input-10-46d7f7b97582>\u001b[0m in \u001b[0;36m<module>\u001b[1;34m\u001b[0m\n\u001b[0;32m     11\u001b[0m \"\"\"\n\u001b[0;32m     12\u001b[0m \u001b[1;33m\u001b[0m\u001b[0m\n\u001b[1;32m---> 13\u001b[1;33m \u001b[0mprint\u001b[0m\u001b[1;33m(\u001b[0m\u001b[0mcard\u001b[0m\u001b[1;33m.\u001b[0m\u001b[0mformat\u001b[0m\u001b[1;33m(\u001b[0m\u001b[0mstudent_name\u001b[0m\u001b[1;33m,\u001b[0m \u001b[0mfathers_name\u001b[0m\u001b[1;33m)\u001b[0m\u001b[1;33m)\u001b[0m\u001b[1;33m\u001b[0m\u001b[1;33m\u001b[0m\u001b[0m\n\u001b[0m",
      "\u001b[1;31mKeyError\u001b[0m: 'student_name'"
     ]
    }
   ],
   "source": [
    "student_name = \"Pakizahh\"\n",
    "fathers_name = \"Muhammad Mushtaq\"\n",
    "fee = 1000\n",
    "\n",
    "card = \"\"\"\n",
    "PIAIC Islamabad\n",
    "Bahria University\n",
    "Name: {student_name}\n",
    "Fathers Name : {fathers_name}\n",
    "\n",
    "\"\"\"\n",
    "\n",
    "print(card.format(student_name, fathers_name))"
   ]
  },
  {
   "cell_type": "code",
   "execution_count": 11,
   "metadata": {},
   "outputs": [
    {
     "name": "stdout",
     "output_type": "stream",
     "text": [
      "\n",
      "PIAIC Islamabad\n",
      "Bahria University\n",
      "Name: Pakizahh\n",
      "Fathers Name : Muhammad Mushtaq\n",
      "\n",
      "\n"
     ]
    }
   ],
   "source": [
    "student_name = \"Pakizahh\"\n",
    "fathers_name = \"Muhammad Mushtaq\"\n",
    "fee = 1000\n",
    "\n",
    "card = \"\"\"\n",
    "PIAIC Islamabad\n",
    "Bahria University\n",
    "Name: {f}\n",
    "Fathers Name : {fn}\n",
    "\n",
    "\"\"\"\n",
    "\n",
    "print(card.format(f=student_name, fn=fathers_name))"
   ]
  },
  {
   "cell_type": "code",
   "execution_count": 12,
   "metadata": {},
   "outputs": [
    {
     "name": "stdout",
     "output_type": "stream",
     "text": [
      "\n",
      "PIAIC Islamabad\n",
      "Bahria University\n",
      "Name: Pakizahh\n",
      "Fathers Name : Muhammad Mushtaq\n",
      "\n",
      "\n"
     ]
    }
   ],
   "source": [
    "student_name = \"Pakizahh\"\n",
    "fathers_name = \"Muhammad Mushtaq\"\n",
    "fee = 1000\n",
    "\n",
    "card = \"\"\"\n",
    "PIAIC Islamabad\n",
    "Bahria University\n",
    "Name: {0}\n",
    "Fathers Name : {1}\n",
    "\n",
    "\"\"\"\n",
    "\n",
    "print(card.format(student_name, fathers_name))"
   ]
  },
  {
   "cell_type": "code",
   "execution_count": 13,
   "metadata": {},
   "outputs": [
    {
     "data": {
      "text/plain": [
       "'11'"
      ]
     },
     "execution_count": 13,
     "metadata": {},
     "output_type": "execute_result"
    }
   ],
   "source": [
    "\"1\" + '1'"
   ]
  },
  {
   "cell_type": "code",
   "execution_count": 14,
   "metadata": {},
   "outputs": [
    {
     "data": {
      "text/plain": [
       "2"
      ]
     },
     "execution_count": 14,
     "metadata": {},
     "output_type": "execute_result"
    }
   ],
   "source": [
    "int (\"1\") + int ('1')"
   ]
  },
  {
   "cell_type": "code",
   "execution_count": 15,
   "metadata": {},
   "outputs": [
    {
     "ename": "TypeError",
     "evalue": "can only concatenate str (not \"int\") to str",
     "output_type": "error",
     "traceback": [
      "\u001b[1;31m---------------------------------------------------------------------------\u001b[0m",
      "\u001b[1;31mTypeError\u001b[0m                                 Traceback (most recent call last)",
      "\u001b[1;32m<ipython-input-15-922907258785>\u001b[0m in \u001b[0;36m<module>\u001b[1;34m\u001b[0m\n\u001b[1;32m----> 1\u001b[1;33m \u001b[1;34m\"1\"\u001b[0m \u001b[1;33m+\u001b[0m \u001b[1;36m8\u001b[0m\u001b[1;33m\u001b[0m\u001b[1;33m\u001b[0m\u001b[0m\n\u001b[0m",
      "\u001b[1;31mTypeError\u001b[0m: can only concatenate str (not \"int\") to str"
     ]
    }
   ],
   "source": [
    "\"1\" + 8"
   ]
  },
  {
   "cell_type": "code",
   "execution_count": 16,
   "metadata": {},
   "outputs": [
    {
     "data": {
      "text/plain": [
       "9"
      ]
     },
     "execution_count": 16,
     "metadata": {},
     "output_type": "execute_result"
    }
   ],
   "source": [
    "int('1') + 8"
   ]
  },
  {
   "cell_type": "code",
   "execution_count": 17,
   "metadata": {},
   "outputs": [
    {
     "data": {
      "text/plain": [
       "'88'"
      ]
     },
     "execution_count": 17,
     "metadata": {},
     "output_type": "execute_result"
    }
   ],
   "source": [
    "\"8\" * 2"
   ]
  }
 ],
 "metadata": {
  "kernelspec": {
   "display_name": "Python 3",
   "language": "python",
   "name": "python3"
  },
  "language_info": {
   "codemirror_mode": {
    "name": "ipython",
    "version": 3
   },
   "file_extension": ".py",
   "mimetype": "text/x-python",
   "name": "python",
   "nbconvert_exporter": "python",
   "pygments_lexer": "ipython3",
   "version": "3.7.4"
  }
 },
 "nbformat": 4,
 "nbformat_minor": 2
}
