{
 "cells": [
  {
   "cell_type": "markdown",
   "metadata": {},
   "source": [
    "## Pakeezah\n",
    "### PIAIC57998\n"
   ]
  },
  {
   "cell_type": "markdown",
   "metadata": {},
   "source": [
    "_Assignment # 2_"
   ]
  },
  {
   "cell_type": "markdown",
   "metadata": {},
   "source": [
    "------"
   ]
  },
  {
   "cell_type": "markdown",
   "metadata": {},
   "source": [
    "##### Pre Defined Methods of String"
   ]
  },
  {
   "cell_type": "markdown",
   "metadata": {},
   "source": [
    "_dir() method is used to return list of methods of any object like String object or Float object etc._"
   ]
  },
  {
   "cell_type": "code",
   "execution_count": null,
   "metadata": {},
   "outputs": [],
   "source": [
    "a = \"    This is A     random   String     \"\n",
    "aa = \"  String \\n with \\n line \\n breaks\"\n",
    "dir(a)"
   ]
  },
  {
   "cell_type": "code",
   "execution_count": null,
   "metadata": {},
   "outputs": [],
   "source": [
    "# zfill(x) fills strings with zeros untill its x characters long\n",
    "a.zfill(30)"
   ]
  },
  {
   "cell_type": "code",
   "execution_count": null,
   "metadata": {},
   "outputs": [],
   "source": [
    "#upper() converts strings into upper case\n",
    "a.upper()"
   ]
  },
  {
   "cell_type": "code",
   "execution_count": null,
   "metadata": {},
   "outputs": [],
   "source": [
    "#translate() will translate returns string of each character mapped to its corresponding character\n",
    "# crossponding string is made with maketrans() and its dictionary or list of arguments\n",
    "string = a\n",
    "print(\"Orignal: \", a)\n",
    "translated = string.maketrans(\"Pakistan\", \" is my  \", \"country\")\n",
    "print(\"Translated: \", translated)\n",
    "#i dont know much about it"
   ]
  },
  {
   "cell_type": "code",
   "execution_count": null,
   "metadata": {},
   "outputs": [],
   "source": [
    "#title() Converts the first character of each word to upper case\n",
    "a.title()"
   ]
  },
  {
   "cell_type": "code",
   "execution_count": null,
   "metadata": {},
   "outputs": [],
   "source": [
    "#swapcase() Swaps cases, lower case becomes upper case and vice versa\n",
    "a.swapcase()"
   ]
  },
  {
   "cell_type": "code",
   "execution_count": null,
   "metadata": {},
   "outputs": [],
   "source": [
    "#strip() Returns a trimmed version of the string\n",
    "a.strip()"
   ]
  },
  {
   "cell_type": "code",
   "execution_count": null,
   "metadata": {},
   "outputs": [],
   "source": [
    "#startswith() Returns true if the string starts with the specified value\n",
    "a.startswith(\"k\")\n"
   ]
  },
  {
   "cell_type": "code",
   "execution_count": null,
   "metadata": {},
   "outputs": [],
   "source": [
    "#splitlines() Splits the string at line breaks and returns a list\n",
    "aa.splitlines()"
   ]
  },
  {
   "cell_type": "code",
   "execution_count": null,
   "metadata": {},
   "outputs": [],
   "source": [
    "#split() Splits the string at the specified separator, and returns a list\n",
    "a.split(\" \")"
   ]
  },
  {
   "cell_type": "code",
   "execution_count": null,
   "metadata": {},
   "outputs": [],
   "source": [
    "#rstrip() Returns a right trim version of the string\n",
    "a.rstrip()"
   ]
  },
  {
   "cell_type": "code",
   "execution_count": null,
   "metadata": {},
   "outputs": [],
   "source": [
    "#rsplit() Splits the string at the specified separator, and returns a list\n",
    "a.rsplit(\" \")"
   ]
  },
  {
   "cell_type": "code",
   "execution_count": null,
   "metadata": {},
   "outputs": [],
   "source": [
    "#rpartition() Returns a tuple where the string is parted into three parts\n",
    "a.rpartition(\"a\")"
   ]
  },
  {
   "cell_type": "code",
   "execution_count": null,
   "metadata": {},
   "outputs": [],
   "source": [
    "#rjust() Returns a right justified version of the string\n",
    "x = a.rjust(10)\n",
    "print(x, \" - Assignment 2 - \" )"
   ]
  },
  {
   "cell_type": "code",
   "execution_count": null,
   "metadata": {},
   "outputs": [],
   "source": [
    "#rindex() Searches the string for a specified value and returns the last position of where it was found\n",
    "a.rindex(\"random\")"
   ]
  },
  {
   "cell_type": "code",
   "execution_count": null,
   "metadata": {},
   "outputs": [],
   "source": [
    "#rfind() Searches the string for a specified value and returns the last position of where it was found\n",
    "a.rfind(\"is\")"
   ]
  },
  {
   "cell_type": "code",
   "execution_count": null,
   "metadata": {},
   "outputs": [],
   "source": [
    "#replace() Returns a string where a specified value is replaced with a specified value\n",
    "a.replace(\"random\", \"not random\")"
   ]
  },
  {
   "cell_type": "code",
   "execution_count": null,
   "metadata": {},
   "outputs": [],
   "source": [
    "#partition() Returns a tuple where the string is parted into three parts\n",
    "a.partition(\"i\")"
   ]
  },
  {
   "cell_type": "code",
   "execution_count": null,
   "metadata": {},
   "outputs": [],
   "source": [
    "#lstrip() Returns a left trim version of the string\n",
    "a.lstrip()"
   ]
  },
  {
   "cell_type": "code",
   "execution_count": null,
   "metadata": {},
   "outputs": [],
   "source": [
    "# lower() Converts a string into lower case\n",
    "a.lower()"
   ]
  },
  {
   "cell_type": "code",
   "execution_count": null,
   "metadata": {},
   "outputs": [],
   "source": [
    "#ljust() Returns a left justified version of the string\n",
    "x = a.ljust(20)\n",
    "print(x, \" - Assignment 2 - \" )"
   ]
  },
  {
   "cell_type": "code",
   "execution_count": null,
   "metadata": {},
   "outputs": [],
   "source": [
    "#join() Joins the elements of an iterable to the end of the string\n",
    "y = \" \"\n",
    "z = ['P', 'a', 'k', 'i', 's', 't', 'a', 'n']\n",
    "y.join(z)"
   ]
  },
  {
   "cell_type": "code",
   "execution_count": null,
   "metadata": {},
   "outputs": [],
   "source": [
    "#isupper() Returns True if all characters in the string are upper case\n",
    "a.isupper()"
   ]
  },
  {
   "cell_type": "code",
   "execution_count": null,
   "metadata": {},
   "outputs": [],
   "source": [
    "#istitle() Returns True if the string follows the rules of a title\n",
    "a.istitle()"
   ]
  },
  {
   "cell_type": "code",
   "execution_count": null,
   "metadata": {},
   "outputs": [],
   "source": [
    "#isspace() Returns True if all characters in the string are whitespaces\n",
    "a.isspace()"
   ]
  },
  {
   "cell_type": "code",
   "execution_count": null,
   "metadata": {},
   "outputs": [],
   "source": [
    "#isprintable() Returns True if all characters in the string are printable\n",
    "a.isprintable()"
   ]
  },
  {
   "cell_type": "code",
   "execution_count": null,
   "metadata": {},
   "outputs": [],
   "source": [
    "#isnumeric() Returns True if all characters in the string are numeric\n",
    "num = \" 14 August 1947  \"\n",
    "num.isnumeric()"
   ]
  },
  {
   "cell_type": "code",
   "execution_count": null,
   "metadata": {},
   "outputs": [],
   "source": [
    "#islower() Returns True if all characters in the string are lower case\n",
    "a.islower()"
   ]
  },
  {
   "cell_type": "code",
   "execution_count": null,
   "metadata": {},
   "outputs": [],
   "source": [
    "#isidentifier() Returns True if the string is an identifier\n",
    "a.isidentifier()"
   ]
  },
  {
   "cell_type": "code",
   "execution_count": null,
   "metadata": {},
   "outputs": [],
   "source": [
    "#isdigit() Returns True if all characters in the string are digits\n",
    "a.isdigit()"
   ]
  },
  {
   "cell_type": "code",
   "execution_count": null,
   "metadata": {},
   "outputs": [],
   "source": [
    "#isdecimal() Returns True if all characters in the string are decimals\n",
    "a.isdecimal()"
   ]
  },
  {
   "cell_type": "code",
   "execution_count": null,
   "metadata": {},
   "outputs": [],
   "source": [
    "#isalpha() Returns True if all characters in the string are in the alphabet\n",
    "print(num.isalpha())\n",
    "print(a.isalpha())"
   ]
  },
  {
   "cell_type": "code",
   "execution_count": null,
   "metadata": {},
   "outputs": [],
   "source": [
    "#isalnum() Returns True if all characters in the string are alphanumeric\n",
    "a.isalnum()"
   ]
  },
  {
   "cell_type": "code",
   "execution_count": null,
   "metadata": {},
   "outputs": [],
   "source": [
    "#index() Searches the string for a specified value and returns the position of where it was found\n",
    "a.index(\"do\")"
   ]
  },
  {
   "cell_type": "code",
   "execution_count": null,
   "metadata": {},
   "outputs": [],
   "source": [
    "#format_map() Formats specified values in a string\n",
    "#different than format() as it makes new dictionary\n",
    "student = {\"Name\": \"Pakizah\", \"Batch\" : 3}\n",
    "print(\"{Name}  -  {Batch}\".format_map(student))"
   ]
  },
  {
   "cell_type": "code",
   "execution_count": null,
   "metadata": {},
   "outputs": [],
   "source": [
    "#format() Formats specified values in a string\n",
    "#different than format_map() as it copies existing dictionary\n",
    "student = {\"Name\": \"Pakizah\", \"Batch\" : 3}\n",
    "print(\"{Name}  -  {Batch}\".format(**student))"
   ]
  },
  {
   "cell_type": "code",
   "execution_count": null,
   "metadata": {},
   "outputs": [],
   "source": [
    "#find() Searches the string for a specified value and returns the position of where it was found\n",
    "a.find(\"random\")"
   ]
  },
  {
   "cell_type": "code",
   "execution_count": null,
   "metadata": {},
   "outputs": [],
   "source": [
    "# expandtabs() returns a string where all '\\t' characters are replaced with \n",
    "#whitespace characters until the next multiple of tabsize parameter.\n",
    "aaa = \"Random\\tTabs\\tIn\\tString\"\n",
    "print(aaa)\n",
    "print(aaa.expandtabs())"
   ]
  },
  {
   "cell_type": "code",
   "execution_count": null,
   "metadata": {},
   "outputs": [],
   "source": [
    "#endswith() Returns true if the string ends with the specified value\n",
    "a.endswith(\" \")"
   ]
  },
  {
   "cell_type": "code",
   "execution_count": null,
   "metadata": {},
   "outputs": [],
   "source": [
    "#encode() Returns an encoded version of the string\n",
    "a.encode(encoding=\"ascii\", errors='replace')"
   ]
  },
  {
   "cell_type": "code",
   "execution_count": null,
   "metadata": {},
   "outputs": [],
   "source": [
    "#count() Returns the number of times a specified value occurs in a string\n",
    "a.count(\"i\")"
   ]
  },
  {
   "cell_type": "code",
   "execution_count": null,
   "metadata": {},
   "outputs": [],
   "source": [
    "#center() Returns a centered string\n",
    "a.center(100)"
   ]
  },
  {
   "cell_type": "code",
   "execution_count": null,
   "metadata": {},
   "outputs": [],
   "source": [
    "#casefold() Converts string into lower case\n",
    "a.casefold()"
   ]
  },
  {
   "cell_type": "code",
   "execution_count": null,
   "metadata": {},
   "outputs": [],
   "source": [
    "#capitalize() Converts the first character to upper case\n",
    "a.capitalize()"
   ]
  },
  {
   "cell_type": "markdown",
   "metadata": {},
   "source": [
    "-----"
   ]
  }
 ],
 "metadata": {
  "kernelspec": {
   "display_name": "Python 3",
   "language": "python",
   "name": "python3"
  },
  "language_info": {
   "codemirror_mode": {
    "name": "ipython",
    "version": 3
   },
   "file_extension": ".py",
   "mimetype": "text/x-python",
   "name": "python",
   "nbconvert_exporter": "python",
   "pygments_lexer": "ipython3",
   "version": "3.7.4"
  }
 },
 "nbformat": 4,
 "nbformat_minor": 2
}
